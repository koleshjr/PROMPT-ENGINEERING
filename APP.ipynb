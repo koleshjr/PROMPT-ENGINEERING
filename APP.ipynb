{
  "nbformat": 4,
  "nbformat_minor": 0,
  "metadata": {
    "colab": {
      "provenance": [],
      "authorship_tag": "ABX9TyPzqi1BVxKQUEfBIB/J2Tv0",
      "include_colab_link": true
    },
    "kernelspec": {
      "name": "python3",
      "display_name": "Python 3"
    },
    "language_info": {
      "name": "python"
    }
  },
  "cells": [
    {
      "cell_type": "markdown",
      "metadata": {
        "id": "view-in-github",
        "colab_type": "text"
      },
      "source": [
        "<a href=\"https://colab.research.google.com/github/koleshjr/PROMPT-ENGINEERING/blob/main/APP.ipynb\" target=\"_parent\"><img src=\"https://colab.research.google.com/assets/colab-badge.svg\" alt=\"Open In Colab\"/></a>"
      ]
    },
    {
      "cell_type": "code",
      "execution_count": null,
      "metadata": {
        "id": "UJ_83hFSIlbI"
      },
      "outputs": [],
      "source": [
        "import streamlit as st\n",
        "import openai\n",
        "\n",
        "import sys\n",
        "sys.path.append('.')\n",
        "from engine import BraindumpEngine\n",
        "\n",
        "def app():\n",
        "  #some stateful variables\n",
        "  if 'latest_insertions' not in st.session_state:\n",
        "    st.session_state['latest_insertions'] = None\n",
        "  if 'insertion_cancelled' not in st.session_state:\n",
        "    st.session_state['insertion_cancelled'] = False\n",
        "\n",
        "    # allowed categories\n",
        "    all_categories = [\"Family\", \"Work\", \"Friends\", \"Shopping\", \"Health\", \"Finance\", \"Travel\", \"Home\", \"Pets\", \"Hobbies\", \"Reminders\",\n",
        "                      \"Ideas\", \"Email\", \"Phone\", \"Address\", \"Other\"]\n",
        "    default_categories = [\"Family\", \"Work\", \"Friends\", \"Shopping\", \"Ideas\", \"Health\", \"Other\"]  \n",
        "\n",
        "    #setup the engine\n",
        "    @st.cache(allow_output_mutation = True)\n",
        "\n",
        "    def create_engine():\n",
        "      return BraindumpEngine(default_categories= default_categories)\n",
        "    engine = create_engine()\n",
        "\n",
        "    st.title(\"Braindump\")\n",
        "    st.write('A simple app to dump your facts, reminders, purchases needs, prices, notes, etc., into a database and query'\n",
        "\n",
        "    ################################################\n",
        "    # Sidebar\n",
        "    ################################################\n",
        "\n",
        "    # Get the OpenAI API key, wither from the OPENAI_API_KEY environment variable or from user input.\n",
        "    st.sidebar.header('Parameters')\n",
        "\n",
        "    token = st.sidebar.text_input('OpenAI API access token',\n",
        "                                  openai.api_key if openai.api_key is not None else '',\n",
        "                                  type = 'password',\n",
        "                                  help = 'Get it on https://beta.openai.com/')\n",
        "    \n",
        "    engine.gpt3_parameters['Engine'] = st.sidebar.text_input('GPT3 Engine','text-davinci-003')\n",
        "    engine.gpt3_parameters['temperature'] = st.sidebar.slider('GPT3 Temperature',value=0.1, min_value=0.0, max_value=1.0,step=0.1)\n",
        "\n",
        "    selected_categories = st.sidebar.multiselect('Possible categories to consider when adding facts',\n",
        "                                                 all_categories,\n",
        "                                                 engine.allowed_categories())\n",
        "    \n",
        "    engine.update_categories(selected_categories)\n",
        "    engine.set_openai_api_key(token)\n",
        "\n",
        "    # We have different tabs for searching and for data insertion\n",
        "    tab1, tab2 = st.tabs(['Search facts','Add facts'])\n",
        "\n",
        "    #############################\n",
        "    # Search facts tab\n",
        "    ############################\n",
        "    with tab1:\n",
        "      query = st.text_input('Query','', help = 'Type a few keywords query your braindump.')\n",
        "      filter_col1, filter_col2, filter_col3 = st.columns(3)\n",
        "      \n",
        "\n",
        "\n",
        "    \n",
        "\n",
        "    "
      ]
    },
    {
      "cell_type": "code",
      "source": [],
      "metadata": {
        "id": "vBqJuxh-JVSE"
      },
      "execution_count": null,
      "outputs": []
    }
  ]
}